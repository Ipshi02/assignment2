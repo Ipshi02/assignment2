{
  "cells": [
    {
      "cell_type": "markdown",
      "id": "13ad028b-72b7-43ed-aa78-96fd4e518040",
      "metadata": {
        "id": "13ad028b-72b7-43ed-aa78-96fd4e518040"
      },
      "source": [
        "# Assignment: Data Wrangling and Exploratory Data Analysis\n",
        "## Do Q1 and Q2, and one other question.\n",
        "`! git clone https://www.github.com/DS3001/assignment2`"
      ]
    },
    {
      "cell_type": "code",
      "source": [
        "! git clone https://www.github.com/DS3001/assignment2"
      ],
      "metadata": {
        "colab": {
          "base_uri": "https://localhost:8080/"
        },
        "id": "BKjBWP7w4ziT",
        "outputId": "0786e1f3-c055-44bc-cafe-0043621aaa35"
      },
      "id": "BKjBWP7w4ziT",
      "execution_count": 2,
      "outputs": [
        {
          "output_type": "stream",
          "name": "stdout",
          "text": [
            "Cloning into 'assignment2'...\n",
            "warning: redirecting to https://github.com/DS3001/assignment2.git/\n",
            "remote: Enumerating objects: 36, done.\u001b[K\n",
            "remote: Counting objects: 100% (36/36), done.\u001b[K\n",
            "remote: Compressing objects: 100% (30/30), done.\u001b[K\n",
            "remote: Total 36 (delta 9), reused 29 (delta 6), pack-reused 0\u001b[K\n",
            "Receiving objects: 100% (36/36), 5.47 MiB | 31.81 MiB/s, done.\n",
            "Resolving deltas: 100% (9/9), done.\n"
          ]
        }
      ]
    },
    {
      "cell_type": "markdown",
      "source": [],
      "metadata": {
        "id": "LhNhaYdO4zJ1"
      },
      "id": "LhNhaYdO4zJ1"
    },
    {
      "cell_type": "markdown",
      "id": "5735a4d4-8be8-433a-a351-70eb8002e632",
      "metadata": {
        "id": "5735a4d4-8be8-433a-a351-70eb8002e632"
      },
      "source": [
        "**Q1.** Open the \"tidy_data.pdf\" document in the repo, which is a paper called Tidy Data by Hadley Wickham.\n",
        "\n",
        "  1. Read the abstract. What is this paper about?\n",
        "  2. Read the introduction. What is the \"tidy data standard\" intended to accomplish?\n",
        "  3. Read the intro to section 2. What does this sentence mean: \"Like families, tidy datasets are all alike but every messy dataset is messy in its own way.\" What does this sentence mean: \"For a given dataset, it’s usually easy to figure out what are observations and what are variables, but it is surprisingly difficult to precisely define variables and observations in general.\"\n",
        "  4. Read Section 2.2. How does Wickham define values, variables, and observations?\n",
        "  5. How is \"Tidy Data\" defined in section 2.3?\n",
        "  6. Read the intro to Section 3 and Section 3.1. What are the 5 most common problems with messy datasets? Why are the data in Table 4 messy? What is \"melting\" a dataset?\n",
        "  7. Why, specifically, is table 11 messy but table 12 tidy and \"molten\"?\n",
        "  8. Read Section 6. What is the \"chicken-and-egg\" problem with focusing on tidy data? What does Wickham hope happens in the future with further work on the subject of data wrangling?"
      ]
    },
    {
      "cell_type": "markdown",
      "id": "da879ea7-8aac-48a3-b6c2-daea56d2e072",
      "metadata": {
        "id": "da879ea7-8aac-48a3-b6c2-daea56d2e072"
      },
      "source": [
        "**Q2.** This question provides some practice cleaning variables which have common problems.\n",
        "1. Numeric variable: For `./data/airbnb_hw.csv`, clean the `Price` variable as well as you can, and explain the choices you make. How many missing values do you end up with? (Hint: What happens to the formatting when a price goes over 999 dollars, say from 675 to 1,112?)\n",
        "2. Categorical variable: For the `./data/sharks.csv` data covered in the lecture, clean the \"Type\" variable as well as you can, and explain the choices you make.\n",
        "3. Dummy variable: For the pretrial data covered in the lecture, clean the `WhetherDefendantWasReleasedPretrial` variable as well as you can, and, in particular, replace missing values with `np.nan`.\n",
        "4. Missing values, not at random: For the pretrial data covered in the lecture, clean the `ImposedSentenceAllChargeInContactEvent` variable as well as you can, and explain the choices you make. (Hint: Look at the `SentenceTypeAllChargesAtConvictionInContactEvent` variable.)"
      ]
    },
    {
      "cell_type": "code",
      "source": [
        "# Question 1: Cleaning the Price variable\n",
        "\n",
        "import numpy as np\n",
        "import pandas as pd"
      ],
      "metadata": {
        "id": "8FNGDT3r0ajL"
      },
      "id": "8FNGDT3r0ajL",
      "execution_count": 3,
      "outputs": []
    },
    {
      "cell_type": "code",
      "source": [
        "bnbdf = pd.read_csv(\"/content/assignment2/data/airbnb_hw.csv\")\n",
        "print(bnbdf.shape, '\\n') # List the dimensions of df\n",
        "print(bnbdf.dtypes, '\\n') # The types of the variables; `object` is a bad sign\n",
        "print(bnbdf.columns.to_list(), '\\n') # First five column names"
      ],
      "metadata": {
        "colab": {
          "base_uri": "https://localhost:8080/"
        },
        "id": "gWaTghMJ19xI",
        "outputId": "e8c98bee-7b77-4a5d-8e50-03c91ee5d026"
      },
      "id": "gWaTghMJ19xI",
      "execution_count": 4,
      "outputs": [
        {
          "output_type": "stream",
          "name": "stdout",
          "text": [
            "(30478, 13) \n",
            "\n",
            "Host Id                         int64\n",
            "Host Since                     object\n",
            "Name                           object\n",
            "Neighbourhood                  object\n",
            "Property Type                  object\n",
            "Review Scores Rating (bin)    float64\n",
            "Room Type                      object\n",
            "Zipcode                       float64\n",
            "Beds                          float64\n",
            "Number of Records               int64\n",
            "Number Of Reviews               int64\n",
            "Price                          object\n",
            "Review Scores Rating          float64\n",
            "dtype: object \n",
            "\n",
            "['Host Id', 'Host Since', 'Name', 'Neighbourhood ', 'Property Type', 'Review Scores Rating (bin)', 'Room Type', 'Zipcode', 'Beds', 'Number of Records', 'Number Of Reviews', 'Price', 'Review Scores Rating'] \n",
            "\n"
          ]
        }
      ]
    },
    {
      "cell_type": "code",
      "source": [
        "print(bnbdf.loc [1:50, (\"Price\")], \"\\n\") #Gives me an overview of the observations for \"Price\"\n",
        "print(bnbdf[\"Price\"].unique(),'\\n') #shows me some interesting observations from \"Price\"\n",
        "print(bnbdf[\"Price\"].value_counts(), '\\n') #gives an overview of the number of values"
      ],
      "metadata": {
        "colab": {
          "base_uri": "https://localhost:8080/"
        },
        "id": "4gV4iF5m7TFv",
        "outputId": "53c601f0-f8f6-49b4-fe9d-e6d427200698"
      },
      "id": "4gV4iF5m7TFv",
      "execution_count": 5,
      "outputs": [
        {
          "output_type": "stream",
          "name": "stdout",
          "text": [
            "1      37\n",
            "2      28\n",
            "3     199\n",
            "4     549\n",
            "5     149\n",
            "6     250\n",
            "7      90\n",
            "8     270\n",
            "9     290\n",
            "10    170\n",
            "11     59\n",
            "12     49\n",
            "13     68\n",
            "14    285\n",
            "15     75\n",
            "16    145\n",
            "17    100\n",
            "18    150\n",
            "19    700\n",
            "20    125\n",
            "21    175\n",
            "22     90\n",
            "23     40\n",
            "24     89\n",
            "25     95\n",
            "26     99\n",
            "27    149\n",
            "28    499\n",
            "29     99\n",
            "30     99\n",
            "31     99\n",
            "32    125\n",
            "33    170\n",
            "34    120\n",
            "35     79\n",
            "36    125\n",
            "37    110\n",
            "38     89\n",
            "39    180\n",
            "40    180\n",
            "41    143\n",
            "42    230\n",
            "43    350\n",
            "44    135\n",
            "45     85\n",
            "46     85\n",
            "47     85\n",
            "48     60\n",
            "49     70\n",
            "50     55\n",
            "Name: Price, dtype: object \n",
            "\n",
            "['145' '37' '28' '199' '549' '149' '250' '90' '270' '290' '170' '59' '49'\n",
            " '68' '285' '75' '100' '150' '700' '125' '175' '40' '89' '95' '99' '499'\n",
            " '120' '79' '110' '180' '143' '230' '350' '135' '85' '60' '70' '55' '44'\n",
            " '200' '165' '115' '74' '84' '129' '50' '185' '80' '190' '140' '45' '65'\n",
            " '225' '600' '109' '1,990' '73' '240' '72' '105' '155' '160' '42' '132'\n",
            " '117' '295' '280' '159' '107' '69' '239' '220' '399' '130' '375' '585'\n",
            " '275' '139' '260' '35' '133' '300' '289' '179' '98' '195' '29' '27' '39'\n",
            " '249' '192' '142' '169' '1,000' '131' '138' '113' '122' '329' '101' '475'\n",
            " '238' '272' '308' '126' '235' '315' '248' '128' '56' '207' '450' '215'\n",
            " '210' '385' '445' '136' '247' '118' '77' '76' '92' '198' '205' '299'\n",
            " '222' '245' '104' '153' '349' '114' '320' '292' '226' '420' '500' '325'\n",
            " '307' '78' '265' '108' '123' '189' '32' '58' '86' '219' '800' '335' '63'\n",
            " '229' '425' '67' '87' '1,200' '158' '650' '234' '310' '695' '400' '166'\n",
            " '119' '62' '168' '340' '479' '43' '395' '144' '52' '47' '529' '187' '209'\n",
            " '233' '82' '269' '163' '172' '305' '156' '550' '435' '137' '124' '48'\n",
            " '279' '330' '5,000' '134' '378' '97' '277' '64' '193' '147' '186' '264'\n",
            " '30' '3,000' '112' '94' '379' '57' '415' '236' '410' '214' '88' '66' '71'\n",
            " '171' '157' '545' '1,500' '83' '96' '1,800' '81' '188' '380' '255' '505'\n",
            " '54' '33' '174' '93' '740' '640' '1,300' '440' '599' '357' '1,239' '495'\n",
            " '127' '5,999' '178' '348' '152' '242' '183' '253' '750' '259' '365' '273'\n",
            " '197' '397' '103' '389' '355' '559' '38' '203' '999' '141' '162' '333'\n",
            " '698' '46' '360' '895' '10' '41' '206' '281' '449' '388' '212' '102'\n",
            " '201' '2,750' '4,750' '432' '675' '167' '390' '298' '339' '194' '302'\n",
            " '211' '595' '191' '53' '361' '480' '8,000' '4,500' '459' '997' '345'\n",
            " '216' '218' '111' '735' '276' '91' '490' '850' '398' '36' '775' '267'\n",
            " '625' '336' '2,500' '176' '725' '3,750' '469' '106' '460' '287' '575'\n",
            " '227' '263' '25' '228' '208' '177' '880' '148' '116' '685' '470' '217'\n",
            " '164' '61' '645' '699' '405' '252' '319' '268' '419' '343' '525' '311'\n",
            " '840' '154' '294' '950' '409' '184' '257' '204' '241' '2,000' '412' '121'\n",
            " '288' '196' '900' '647' '524' '1,750' '309' '510' '1,495' '1,700' '799'\n",
            " '383' '372' '492' '327' '1,999' '656' '224' '173' '875' '1,170' '795'\n",
            " '690' '146' '465' '1,100' '151' '274' '429' '825' '282' '256' '1,111'\n",
            " '620' '271' '161' '51' '855' '579' '1,174' '430' '20' '899' '649' '485'\n",
            " '181' '455' '4,000' '243' '342' '590' '560' '374' '437' '232' '359' '985'\n",
            " '31' '244' '254' '723' '237' '428' '370' '34' '1,400' '580' '2,520' '221'\n",
            " '749' '1,600' '2,695' '306' '202' '680' '570' '520' '223' '2,295' '213'\n",
            " '1,065' '346' '24' '286' '296' '266' '26' '995' '1,368' '393' '182' '635'\n",
            " '258' '780' '589' '347' '1,250' '1,350' '446' '3,200' '1,050' '1,650'\n",
            " '1,550' '975' '323' '6,500' '2,499' '1,850' '2,250' '715' '461' '540'\n",
            " '356' '439' '384' '569' '1,900' '22' '785' '626' '830' '318' '444' '321'\n",
            " '401' '1,499' '888' '369' '770' '386' '366' '344' '630' '313' '597' '262'\n",
            " '509' '10,000' '278' '312' '789' '1,195' '422' '21' '765' '3,500' '945'\n",
            " '326' '3,100' '2,486' '3,390' '1,356' '2,599' '472' '454' '328' '396'\n",
            " '291'] \n",
            "\n",
            "150      1481\n",
            "100      1207\n",
            "200      1059\n",
            "125       889\n",
            "75        873\n",
            "         ... \n",
            "840         1\n",
            "306         1\n",
            "2,695       1\n",
            "2,520       1\n",
            "291         1\n",
            "Name: Price, Length: 511, dtype: int64 \n",
            "\n"
          ]
        }
      ]
    },
    {
      "cell_type": "code",
      "source": [
        "bnbdf[\"Price\"]= bnbdf[\"Price\"].str.replace(\",\", \"\") # I did this to remove the commas, from the values above 999, in order for it to count as a numeric variable\n"
      ],
      "metadata": {
        "id": "P0Sb-qLzCeGQ"
      },
      "id": "P0Sb-qLzCeGQ",
      "execution_count": 6,
      "outputs": []
    },
    {
      "cell_type": "code",
      "source": [
        "bnbdf[\"Price\"] = pd.to_numeric(bnbdf[\"Price\"], errors = \"coerce\") #coerces the variable to numeric instead of object"
      ],
      "metadata": {
        "id": "7Wj3-VbBC9ac"
      },
      "id": "7Wj3-VbBC9ac",
      "execution_count": 7,
      "outputs": []
    },
    {
      "cell_type": "code",
      "source": [
        "print(bnbdf.loc [101], (\"Price\")) #checking to see if the comma was removed"
      ],
      "metadata": {
        "colab": {
          "base_uri": "https://localhost:8080/"
        },
        "id": "MbMDEGOwEk-K",
        "outputId": "7b302276-c438-49d1-b103-f4c4d0f8b7eb"
      },
      "id": "MbMDEGOwEk-K",
      "execution_count": 8,
      "outputs": [
        {
          "output_type": "stream",
          "name": "stdout",
          "text": [
            "Host Id                                        8730\n",
            "Host Since                                2/27/2009\n",
            "Name                          Comfort & Convenience\n",
            "Neighbourhood                             Manhattan\n",
            "Property Type                           Condominium\n",
            "Review Scores Rating (bin)                    100.0\n",
            "Room Type                           Entire home/apt\n",
            "Zipcode                                     10003.0\n",
            "Beds                                            6.0\n",
            "Number of Records                                 1\n",
            "Number Of Reviews                                 4\n",
            "Price                                          1990\n",
            "Review Scores Rating                          100.0\n",
            "Name: 101, dtype: object Price\n"
          ]
        }
      ]
    },
    {
      "cell_type": "code",
      "source": [
        "bnbdf[\"Price\"] = bnbdf[\"Price\"].isnull() #Seeing if there are any missing values\n",
        "print(sum(bnbdf[\"Price\"]),'\\n') #Tells me the total amount of missings; can see there are none!"
      ],
      "metadata": {
        "id": "yZSVAeJnjDE-",
        "outputId": "e7b173a2-c33f-47b0-e880-aa02e73b519f",
        "colab": {
          "base_uri": "https://localhost:8080/"
        }
      },
      "id": "yZSVAeJnjDE-",
      "execution_count": 9,
      "outputs": [
        {
          "output_type": "stream",
          "name": "stdout",
          "text": [
            "0 \n",
            "\n"
          ]
        }
      ]
    },
    {
      "cell_type": "code",
      "source": [
        "#B - Shark dataset cleaning\n",
        "sdf = pd.read_csv(\"/content/assignment2/data/sharks.csv\")"
      ],
      "metadata": {
        "id": "BRg9rq5VP_83",
        "outputId": "3ecfd1e3-3440-41a8-b334-2ddad986f246",
        "colab": {
          "base_uri": "https://localhost:8080/"
        }
      },
      "id": "BRg9rq5VP_83",
      "execution_count": 10,
      "outputs": [
        {
          "output_type": "stream",
          "name": "stderr",
          "text": [
            "<ipython-input-10-32642fda2bdd>:2: DtypeWarning: Columns (10,17,18,19,20,21,24) have mixed types. Specify dtype option on import or set low_memory=False.\n",
            "  sdf = pd.read_csv(\"/content/assignment2/data/sharks.csv\")\n"
          ]
        }
      ]
    },
    {
      "cell_type": "code",
      "source": [
        "print(sdf.loc [1:50, (\"Type\")], \"\\n\")\n",
        "print(sdf[\"Type\"].unique(),'\\n')\n",
        "print(sdf[\"Type\"].value_counts(), '\\n')"
      ],
      "metadata": {
        "id": "Ce67E8vqQp8o",
        "outputId": "fb72e62d-5342-43b7-99d7-deed85d63f33",
        "colab": {
          "base_uri": "https://localhost:8080/"
        }
      },
      "id": "Ce67E8vqQp8o",
      "execution_count": 11,
      "outputs": [
        {
          "output_type": "stream",
          "name": "stdout",
          "text": [
            "1         Provoked\n",
            "2       Unprovoked\n",
            "3       Unprovoked\n",
            "4       Unprovoked\n",
            "5       Unprovoked\n",
            "6       Unprovoked\n",
            "7       Unprovoked\n",
            "8       Unprovoked\n",
            "9     Questionable\n",
            "10      Unprovoked\n",
            "11      Unprovoked\n",
            "12      Unprovoked\n",
            "13      Unprovoked\n",
            "14      Unprovoked\n",
            "15      Unprovoked\n",
            "16        Provoked\n",
            "17    Questionable\n",
            "18      Unprovoked\n",
            "19      Unprovoked\n",
            "20      Unprovoked\n",
            "21      Unprovoked\n",
            "22    Questionable\n",
            "23        Provoked\n",
            "24      Unprovoked\n",
            "25        Provoked\n",
            "26      Unprovoked\n",
            "27      Unprovoked\n",
            "28      Watercraft\n",
            "29    Questionable\n",
            "30      Unprovoked\n",
            "31        Provoked\n",
            "32      Unprovoked\n",
            "33      Unprovoked\n",
            "34      Unprovoked\n",
            "35      Unprovoked\n",
            "36      Unprovoked\n",
            "37      Unprovoked\n",
            "38        Provoked\n",
            "39      Unprovoked\n",
            "40      Unprovoked\n",
            "41      Unprovoked\n",
            "42      Unprovoked\n",
            "43      Unprovoked\n",
            "44      Unprovoked\n",
            "45      Unprovoked\n",
            "46      Unprovoked\n",
            "47        Provoked\n",
            "48      Unprovoked\n",
            "49      Unprovoked\n",
            "50      Unprovoked\n",
            "Name: Type, dtype: object \n",
            "\n",
            "['Unprovoked' 'Provoked' 'Questionable' 'Watercraft' 'Unconfirmed'\n",
            " 'Unverified' 'Invalid' 'Under investigation' 'Boating' 'Sea Disaster' nan\n",
            " 'Boat' 'Boatomg'] \n",
            "\n",
            "Unprovoked             4716\n",
            "Provoked                593\n",
            "Invalid                 552\n",
            "Sea Disaster            239\n",
            "Watercraft              142\n",
            "Boat                    109\n",
            "Boating                  92\n",
            "Questionable             10\n",
            "Unconfirmed               1\n",
            "Unverified                1\n",
            "Under investigation       1\n",
            "Boatomg                   1\n",
            "Name: Type, dtype: int64 \n",
            "\n"
          ]
        }
      ]
    },
    {
      "cell_type": "code",
      "source": [
        "sdf[\"Type\"] = sdf[\"Type\"].replace ([\"Invalid\", \"Unconfirmed\", \"Unverified\", \"Under investigation\"], np.nan) #I replaced these obervsations with missings, because they all cannot be determined. I left questionable out, because I saw it still involves a shark attack, but its undertermined if it was human remains that were eaten after some other fatal incident.\n",
        "print(sdf[\"Type\"].value_counts(), '\\n')"
      ],
      "metadata": {
        "id": "6JZIxEd1TvPL",
        "outputId": "b8d68b55-b8a4-4c1b-b9d6-177aadc54bdb",
        "colab": {
          "base_uri": "https://localhost:8080/"
        }
      },
      "id": "6JZIxEd1TvPL",
      "execution_count": 12,
      "outputs": [
        {
          "output_type": "stream",
          "name": "stdout",
          "text": [
            "Unprovoked      4716\n",
            "Provoked         593\n",
            "Sea Disaster     239\n",
            "Watercraft       142\n",
            "Boat             109\n",
            "Boating           92\n",
            "Questionable      10\n",
            "Boatomg            1\n",
            "Name: Type, dtype: int64 \n",
            "\n"
          ]
        }
      ]
    },
    {
      "cell_type": "markdown",
      "source": [],
      "metadata": {
        "id": "F1Ms6peS_dhX"
      },
      "id": "F1Ms6peS_dhX"
    },
    {
      "cell_type": "code",
      "source": [
        "sdf[\"Type\"] = sdf[\"Type\"].replace([\"Sea Disaster\", \"Watercraft\", \"Boat\", \"Boating\", \"Boatomg\"], \"Watercraft\") #All of these observations can be put into one category to make the data more digestible. I'm not sure of \"Boatomg\" which was only one observation was a typo or not. I decided to interpret it as a boat.\n",
        "print(sdf[\"Type\"].value_counts(), '\\n')\n",
        "sdf[\"Type\"].hist(bins = 10) #I just wanted to see if the data seemed easier to understand. It annoys me how Questionable isn't there, but it is a small amount of observations."
      ],
      "metadata": {
        "id": "se4w90Z0VkGI",
        "outputId": "587fe403-f1bc-4285-b2ae-f9faa71e5e94",
        "colab": {
          "base_uri": "https://localhost:8080/",
          "height": 555
        }
      },
      "id": "se4w90Z0VkGI",
      "execution_count": 13,
      "outputs": [
        {
          "output_type": "stream",
          "name": "stdout",
          "text": [
            "Unprovoked      4716\n",
            "Provoked         593\n",
            "Watercraft       583\n",
            "Questionable      10\n",
            "Name: Type, dtype: int64 \n",
            "\n"
          ]
        },
        {
          "output_type": "execute_result",
          "data": {
            "text/plain": [
              "<Axes: >"
            ]
          },
          "metadata": {},
          "execution_count": 13
        },
        {
          "output_type": "display_data",
          "data": {
            "text/plain": [
              "<Figure size 640x480 with 1 Axes>"
            ],
            "image/png": "[encoded data removed]"
          },
          "metadata": {}
        }
      ]
    },
    {
      "cell_type": "code",
      "source": [
        "url = 'http://www.vcsc.virginia.gov/pretrialdataproject/October%202017%20Cohort_Virginia%20Pretrial%20Data%20Project_Deidentified%20FINAL%20Update_10272021.csv'\n",
        "df = pd.read_csv(url,low_memory=False)\n",
        "df = df.rename(columns = {\"WhetherDefendantWasReleasedPretrial\": \"Released\"}) #Renamed column because its way too long"
      ],
      "metadata": {
        "id": "mNkyBbHsXEiv"
      },
      "id": "mNkyBbHsXEiv",
      "execution_count": 19,
      "outputs": []
    },
    {
      "cell_type": "code",
      "source": [
        "print(df.loc [1:50, (\"Released\")], \"\\n\") #Gives me an overview of the observations for \"Price\"\n",
        "print(df[\"Released\"].unique(),'\\n') #shows me some interesting observations from \"Price\"\n",
        "print(df[\"Released\"].value_counts(), '\\n') #gives an overview of the number of values\n",
        "print(df.loc [32], (\"Released\"))"
      ],
      "metadata": {
        "colab": {
          "base_uri": "https://localhost:8080/"
        },
        "id": "yqIEFe32-WLL",
        "outputId": "e385da74-33b7-4aa6-9c04-57e41cd00f8c"
      },
      "id": "yqIEFe32-WLL",
      "execution_count": 23,
      "outputs": [
        {
          "output_type": "stream",
          "name": "stdout",
          "text": [
            "1     0.0\n",
            "2     0.0\n",
            "3     0.0\n",
            "4     1.0\n",
            "5     0.0\n",
            "6     1.0\n",
            "7     1.0\n",
            "8     0.0\n",
            "9     1.0\n",
            "10    1.0\n",
            "11    0.0\n",
            "12    1.0\n",
            "13    1.0\n",
            "14    1.0\n",
            "15    1.0\n",
            "16    1.0\n",
            "17    1.0\n",
            "18    1.0\n",
            "19    1.0\n",
            "20    1.0\n",
            "21    0.0\n",
            "22    1.0\n",
            "23    1.0\n",
            "24    1.0\n",
            "25    0.0\n",
            "26    0.0\n",
            "27    0.0\n",
            "28    0.0\n",
            "29    1.0\n",
            "30    0.0\n",
            "31    0.0\n",
            "32    NaN\n",
            "33    1.0\n",
            "34    0.0\n",
            "35    1.0\n",
            "36    1.0\n",
            "37    1.0\n",
            "38    0.0\n",
            "39    1.0\n",
            "40    0.0\n",
            "41    0.0\n",
            "42    1.0\n",
            "43    1.0\n",
            "44    1.0\n",
            "45    1.0\n",
            "46    0.0\n",
            "47    1.0\n",
            "48    1.0\n",
            "49    NaN\n",
            "50    NaN\n",
            "Name: Released, dtype: float64 \n",
            "\n",
            "[nan  0.  1.] \n",
            "\n",
            "1.0    19154\n",
            "0.0     3801\n",
            "Name: Released, dtype: int64 \n",
            "\n",
            "InternalStudyID                                                                                          CDI00143\n",
            "REQ_REC#                                                                                                       35\n",
            "Defendant_Sex                                                                                                   M\n",
            "Defendant_Race                                                                                                  W\n",
            "Defendant_BirthYear                                                                                          1962\n",
            "                                                                                      ...                        \n",
            "NewFelonySexualAssaultArrest_Disposition                                                                         \n",
            "Intertnalindicator_ReasonforExcludingFromFollowUpAnalysis                                                       8\n",
            "CriminalHistoryRecordsReturnedorCMSRecordsFoundforIndividual                                                    1\n",
            "DispRecordFoundforChargesinOct2017Contact_Atleast1dispfound                                                     1\n",
            "CrimeCommission2021ReportClassificationofDefendants             Defendant could not be classified or tracked d...\n",
            "Name: 32, Length: 709, dtype: object Released\n"
          ]
        }
      ]
    },
    {
      "cell_type": "code",
      "source": [
        "df[\"Released\"] = df[\"Released\"].replace( [9], np.nan)\n",
        "print(df[\"Released\"].value_counts(), '\\n')\n"
      ],
      "metadata": {
        "colab": {
          "base_uri": "https://localhost:8080/"
        },
        "id": "WbPNOa5aAdHk",
        "outputId": "57f3b435-35c0-4c2b-de52-6e64fef1c0b1"
      },
      "id": "WbPNOa5aAdHk",
      "execution_count": 24,
      "outputs": [
        {
          "output_type": "stream",
          "name": "stdout",
          "text": [
            "1.0    19154\n",
            "0.0     3801\n",
            "Name: Released, dtype: int64 \n",
            "\n"
          ]
        }
      ]
    },
    {
      "cell_type": "code",
      "source": [
        "df = df.rename(columns = {\"ImposedSentenceAllChargeInContactEvent\": \"\"})"
      ],
      "metadata": {
        "id": "NZxJZ4K-B-Sx"
      },
      "id": "NZxJZ4K-B-Sx",
      "execution_count": null,
      "outputs": []
    },
    {
      "cell_type": "markdown",
      "id": "c11bcd96-2834-41a4-80fe-d354b4277fd9",
      "metadata": {
        "id": "c11bcd96-2834-41a4-80fe-d354b4277fd9"
      },
      "source": [
        "**Q3.** This question provides some practice doing exploratory data analysis and visualization.\n",
        "\n",
        "The \"relevant\" variables for this question are:\n",
        "  - `level` - Level of institution (4-year, 2-year)\n",
        "  - `aid_value` - The average amount of student aid going to undergraduate recipients\n",
        "  - `control` - Public, Private not-for-profit, Private for-profit\n",
        "  - `grad_100_value` - percentage of first-time, full-time, degree-seeking undergraduates who complete a degree or certificate program within 100 percent of expected time (bachelor's-seeking group at 4-year institutions)\n",
        "\n",
        "1. Load the `./data/college_completion.csv` data with Pandas.\n",
        "2. What are are the dimensions of the data? How many observations are there? What are the variables included? Use `.head()` to examine the first few rows of data.\n",
        "3. Cross tabulate `control` and `level`. Describe the patterns you see.\n",
        "4. For `grad_100_value`, create a histogram, kernel density plot, boxplot, and statistical description.\n",
        "5. For `grad_100_value`, create a grouped kernel density plot by `control` and by `level`. Describe what you see. Use `groupby` and `.describe` to make grouped calculations of statistical descriptions of `grad_100_value` by `level` and `control`. Which institutions appear to have the best graduation rates?\n",
        "6. Create a new variable, `df['levelXcontrol']=df['level']+', '+df['control']` that interacts level and control. Make a grouped kernel density plot. Which institutions appear to have the best graduation rates?\n",
        "7. Make a kernel density plot of `aid_value`. Notice that your graph is \"bi-modal\", having two little peaks that represent locally most common values. Now group your graph by `level` and `control`. What explains the bi-modal nature of the graph? Use `groupby` and `.describe` to make grouped calculations of statistical descriptions of `aid_value` by `level` and `control`.\n",
        "8. Make a scatterplot of `grad_100_value` by `aid_value`. Describe what you see. Now make the same plot, grouping by `level` and then `control`. Describe what you see. For which kinds of institutions does aid seem to increase graduation rates?"
      ]
    },
    {
      "cell_type": "markdown",
      "id": "98d34a3b-c21d-4dc9-a8d2-fb7686804ceb",
      "metadata": {
        "id": "98d34a3b-c21d-4dc9-a8d2-fb7686804ceb"
      },
      "source": [
        "**Q4.** This question uses the Airbnb data to practice making visualizations.\n",
        "\n",
        "  1. Load the `./data/airbnb_hw.csv` data with Pandas. You should have cleaned the `Price` variable in question 2, and you'll need it later for this question.\n",
        "  2. What are are the dimensions of the data? How many observations are there? What are the variables included? Use `.head()` to examine the first few rows of data.\n",
        "  3. Cross tabulate `Room Type` and `Property Type`. What patterns do you see in what kinds of rentals are available? For which kinds of properties are private rooms more common than renting the entire property?\n",
        "  4. For `Price`, make a histogram, kernel density, box plot, and a statistical description of the variable. Are the data badly scaled? Are there many outliers? Use `log` to transform price into a new variable, `price_log`, and take these steps again.\n",
        "  5. Make a scatterplot of `price_log` and `Beds`. Describe what you see. Use `.groupby()` to compute a desciption of `Price` conditional on/grouped by the number of beds. Describe any patterns you see in the average price and standard deviation in prices.\n",
        "  6. Make a scatterplot of `price_log` and `Beds`, but color the graph by `Room Type` and `Property Type`. What patterns do you see? Compute a description of `Price` conditional on `Room Type` and `Property Type`. Which Room Type and Property Type have the highest prices on average? Which have the highest standard deviation? Does the mean or median appear to be a more reliable estimate of central tendency, and explain why?\n",
        "  7. We've looked a bit at this `price_log` and `Beds` scatterplot. Use seaborn to make a `jointplot` with `kind=hex`. Where are the data actually distributed? How does it affect the way you think about the plots in 5 and 6?"
      ]
    },
    {
      "cell_type": "markdown",
      "id": "649494cd-cfd6-4f80-992a-9994fc19e1d5",
      "metadata": {
        "id": "649494cd-cfd6-4f80-992a-9994fc19e1d5"
      },
      "source": [
        "**Q5.** Many important datasets contain a race variable, typically limited to a handful of values often including Black, White, Asian, Latino, and Indigenous. This question looks at data gathering efforts on this variable by the U.S. Federal government.\n",
        "\n",
        "1. How did the most recent US Census gather data on race?\n",
        "2. Why do we gather these data? What role do these kinds of data play in politics and society? Why does data quality matter?\n",
        "3. Please provide a constructive criticism of how the Census was conducted: What was done well? What do you think was missing? How should future large scale surveys be adjusted to best reflect the diversity of the population? Could some of the Census' good practices be adopted more widely to gather richer and more useful data?\n",
        "4. How did the Census gather data on sex and gender? Please provide a similar constructive criticism of their practices.\n",
        "5. When it comes to cleaning data, what concerns do you have about protected characteristics like sex, gender, sexual identity, or race? What challenges can you imagine arising when there are missing values? What good or bad practices might people adopt, and why?\n",
        "6. Suppose someone invented an algorithm to impute values for protected characteristics like race, gender, sex, or sexuality. What kinds of concerns would you have?"
      ]
    },
    {
      "cell_type": "markdown",
      "source": [
        "1. Accourding to the US Census, they gather data on race based off of self-identification, in which people are sent a survey.\n",
        "https://www.census.gov/topics/population/race.html#:~:text=The%20Census%20Bureau%20collects%20race,more%20than%20one%20race%20group.\n",
        "\n",
        "2. We gather this data because it gives us insight into the demographics of the United States. In particular, we can create visualizations that depict the diversity of races in various states. This large pool of data can also be turned into visualizations that can help us understand significant numbers, and what they may imply. Census data is also critical overall for the U.S. aOne specific example, Black individuals tend to be overrepresented for their contribution to the crime rate in America, because their smaller population is not factored in. Similarly, White people are underrepresented for their crimes because they make up the majority of the population. Additionally, it helps determine how federal funds are distributed to people, which is critical. These stats can give important insight into the overall distribution of races, and how diverse our society really is. If the data quality is off, it can misrepresent the entire population. Certain groups of races can be excluded which is misleading.\n",
        "\n",
        "3. I like how for the 2020 census they made sure to include more options for ethic groups such as \"Middle Eastern\" or \"Sikh\" and tried to be more accurate in how they are classified."
      ],
      "metadata": {
        "id": "0FYll3z-_279"
      },
      "id": "0FYll3z-_279"
    },
    {
      "cell_type": "markdown",
      "id": "2f38f2fd-6381-481d-bba9-017f3d363426",
      "metadata": {
        "id": "2f38f2fd-6381-481d-bba9-017f3d363426"
      },
      "source": [
        "**Q6.** Open the `./data/CBO_data.pdf` file. This contains tax data for 2019, explaining where the money comes from that the U.S. Federal Government Spends in terms of taxation on individuals/families and payroll taxes (the amount that your employer pays in taxes on your wages).\n",
        "\n",
        "For some context, the Federal government ultimately spent about $4.4 trillion in 2019, which was 21% of GDP (the total monetary value of all goods and services produced within the United States). Individual Income Taxes is the amount individuals pay on their wages to the Federal government, Corporate Income Taxes is the taxes individuals pay on capital gains from investment when they sell stock or other financial instruments, Payroll Taxes is the tax your employer pays on your wages, Excises and Customs Duties are taxes on goods or services like sin taxes on cigarettes or alcohol, and Estate and Gift Taxes are taxes paid on transfers of wealth to other people.\n",
        "\n",
        "1. Get the Millions of Families and Billions of Dollars data into a .csv file and load it with Pandas.\n",
        "2. Create a bar plot of individual income taxes by income decile. Explain what the graph shows. Why are some values negative?\n",
        "3. Create a bar plot of Total Federal Taxes by income decile. Which deciles are paying net positive amounts, and which are paying net negative amounts?\n",
        "4. Create a stacked bar plot for which Total Federal Taxes is grouped by Individual Income Taxes, Payroll Taxes, Excises and Customs Duties, and Estate and Gift Taxes. How does the share of taxes paid vary across the adjusted income deciles? (Hint: Are these the kind of data you want to melt?)\n",
        "5. Below the Total line for Millions of Families and Billions of Dollars, there are data for the richest of the richest families. Plot this alongside the bars for the deciles above the Total line. Describe your results.\n",
        "6. Get the Percent Distribution data into a .csv file and load it with Pandas. Create a bar graph of Total Federal Taxes by income decile.\n",
        "7. A tax system is progressive if higher-income and wealthier individuals pay more than lower-income and less wealthy individuals, and it is regressive if the opposite is true. Is the U.S. tax system progressive in terms of amount paid? In terms of the percentage of the overall total?\n",
        "8. Do the rich pay enough in taxes? Defend your answer."
      ]
    }
  ],
  "metadata": {
    "kernelspec": {
      "display_name": "Python 3 (ipykernel)",
      "language": "python",
      "name": "python3"
    },
    "language_info": {
      "codemirror_mode": {
        "name": "ipython",
        "version": 3
      },
      "file_extension": ".py",
      "mimetype": "text/x-python",
      "name": "python",
      "nbconvert_exporter": "python",
      "pygments_lexer": "ipython3",
      "version": "3.10.4"
    },
    "colab": {
      "provenance": []
    }
  },
  "nbformat": 4,
  "nbformat_minor": 5
}